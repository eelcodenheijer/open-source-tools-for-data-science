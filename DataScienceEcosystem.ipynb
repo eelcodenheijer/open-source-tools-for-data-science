{
 "cells": [
  {
   "cell_type": "markdown",
   "id": "42d13ad8-c401-472e-aa46-e9ab2c52bbef",
   "metadata": {},
   "source": [
    "# Data Science Tools and Ecosystem"
   ]
  },
  {
   "cell_type": "markdown",
   "id": "06065f2f-6691-43cd-9716-d68eb64433c8",
   "metadata": {},
   "source": [
    "In this notebook, Data Science Tools and Ecosystem are summarized."
   ]
  },
  {
   "cell_type": "markdown",
   "id": "7c715590-bae0-4f73-8d8d-e85ef2ca2a92",
   "metadata": {
    "tags": []
   },
   "source": [
    "**Objectives:**\n",
    "* List popular languages for Data Science\n",
    "* List commonly use libraries for Data Science\n",
    "* List Data Science Tools"
   ]
  },
  {
   "cell_type": "markdown",
   "id": "0cb9f13d-5f80-42a6-9934-84961b0dba2a",
   "metadata": {
    "tags": []
   },
   "source": [
    "Some of the popular languages that Data Scientists use are:\n",
    "1. Python\n",
    "2. R\n",
    "3. Julia"
   ]
  },
  {
   "cell_type": "markdown",
   "id": "3cb4cd8d-a1ef-4568-84d8-b34a4e51b426",
   "metadata": {},
   "source": [
    "Some of the commonly used libraries used by Data Scientists include:\n",
    "1. Pandas\n",
    "2. scikit-learn\n",
    "3. numpy"
   ]
  },
  {
   "cell_type": "markdown",
   "id": "770d4a79-bc34-4e2c-ac84-db8b4ef3086d",
   "metadata": {
    "tags": []
   },
   "source": [
    "| Data Science Tools |\n",
    "| ---------------- |\n",
    "| R Studio        | \n",
    "| Anaconda           |\n",
    "| Python    |\n"
   ]
  },
  {
   "cell_type": "markdown",
   "id": "a8def49c-8fa3-4d49-b582-8b71912ead91",
   "metadata": {
    "tags": []
   },
   "source": [
    "### Below are a few examples of evaluating arithmetic expressions in Python."
   ]
  },
  {
   "cell_type": "code",
   "execution_count": 6,
   "id": "ae5e0aa8-8e05-453b-b50a-f27c8540dd09",
   "metadata": {
    "tags": []
   },
   "outputs": [
    {
     "data": {
      "text/plain": [
       "17.0"
      ]
     },
     "execution_count": 6,
     "metadata": {},
     "output_type": "execute_result"
    }
   ],
   "source": [
    "# This a simple arithmetic expression to mutiply then add integers\n",
    "(3*4)+5."
   ]
  },
  {
   "cell_type": "code",
   "execution_count": 8,
   "id": "66638193-bca2-4b73-b2ae-30aceee0e928",
   "metadata": {
    "tags": []
   },
   "outputs": [
    {
     "data": {
      "text/plain": [
       "3.3333333333333335"
      ]
     },
     "execution_count": 8,
     "metadata": {},
     "output_type": "execute_result"
    }
   ],
   "source": [
    "# This will convert 200 minutes to hours by diving by 60\n",
    "minutes = 200\n",
    "hours = minutes / 60\n",
    "hours"
   ]
  },
  {
   "cell_type": "markdown",
   "id": "1183f993-b2dd-466e-b5ab-be6eb87c6b6c",
   "metadata": {},
   "source": [
    "## Author\n",
    "Eelco den Heijer"
   ]
  },
  {
   "cell_type": "code",
   "execution_count": null,
   "id": "ae6a54a0-6c67-44f3-a335-30f5de99e90b",
   "metadata": {},
   "outputs": [],
   "source": []
  }
 ],
 "metadata": {
  "kernelspec": {
   "display_name": "Python",
   "language": "python",
   "name": "conda-env-python-py"
  },
  "language_info": {
   "codemirror_mode": {
    "name": "ipython",
    "version": 3
   },
   "file_extension": ".py",
   "mimetype": "text/x-python",
   "name": "python",
   "nbconvert_exporter": "python",
   "pygments_lexer": "ipython3",
   "version": "3.7.12"
  }
 },
 "nbformat": 4,
 "nbformat_minor": 5
}
